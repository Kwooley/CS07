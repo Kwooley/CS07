{
 "cells": [
  {
   "cell_type": "markdown",
   "metadata": {},
   "source": [
    "***\n",
    "## Online Flow Charts Tools\n",
    "\n",
    " <a ref=\"https://draw.io\" > Draw.io  </a> </br> \n",
    "\n",
    " <a ref=\"https://lucidchart.com\" > Lucid Chart </a> \n"
   ]
  },
  {
   "cell_type": "markdown",
   "metadata": {},
   "source": [
    "***\n",
    "## Output in Python\n"
   ]
  },
  {
   "cell_type": "code",
   "execution_count": 1,
   "metadata": {},
   "outputs": [
    {
     "name": "stdout",
     "output_type": "stream",
     "text": [
      "Hello World\n"
     ]
    }
   ],
   "source": [
    "print (\"Hello World\")"
   ]
  },
  {
   "cell_type": "markdown",
   "metadata": {},
   "source": [
    "### Simple Formatting Numbers\n",
    "\n",
    "\n",
    "- `Simple way to print with format:` \n",
    "\n",
    "\t- <a href=\"https://docs.python.org/3/library/functions.html?highlight=format#format\"> format(value[, format_spec])\n",
    "\t</a>\n",
    "\t- <a href=\"https://docs.python.org/3/library/string.html#formatspec\"> Format Specification </a>\n",
    "\n",
    "![Format Specifier](https://nimbus-screenshots.s3.amazonaws.com/s/cc0c0ec7efc3aba9bc4406f053b8fdf4.png)\n"
   ]
  },
  {
   "cell_type": "code",
   "execution_count": 3,
   "metadata": {},
   "outputs": [
    {
     "name": "stdout",
     "output_type": "stream",
     "text": [
      "      123456789\n",
      "12345.68\n"
     ]
    }
   ],
   "source": [
    "# Format with width, Decimal / Float \n",
    "\n",
    "print (format(123456789, '15d'))\n",
    "print (format(12345.678, '.2f'))\n"
   ]
  },
  {
   "cell_type": "code",
   "execution_count": 2,
   "metadata": {},
   "outputs": [
    {
     "name": "stdout",
     "output_type": "stream",
     "text": [
      "1.234568e+04\n",
      "1.23e+04\n"
     ]
    }
   ],
   "source": [
    "# Scientific Notation\n",
    "\n",
    "print (format(12345.6789, 'e'))\n",
    "print (format(12345.6789, '.2e'))\n"
   ]
  },
  {
   "cell_type": "code",
   "execution_count": 26,
   "metadata": {},
   "outputs": [
    {
     "name": "stdout",
     "output_type": "stream",
     "text": [
      "123,456,789.12\n"
     ]
    }
   ],
   "source": [
    "#? Inserting comma separator\n",
    "\n",
    "print (format(123456789.12345, ',.2f'))\n"
   ]
  },
  {
   "cell_type": "code",
   "execution_count": 31,
   "metadata": {},
   "outputs": [
    {
     "name": "stdout",
     "output_type": "stream",
     "text": [
      "1234567.89%\n"
     ]
    }
   ],
   "source": [
    "#? Floating point numbers as a percentage\n",
    "\n",
    "print (format(12345.6789, '.2%'))"
   ]
  },
  {
   "cell_type": "markdown",
   "metadata": {},
   "source": [
    "#### Using the String format"
   ]
  },
  {
   "cell_type": "code",
   "execution_count": 5,
   "metadata": {},
   "outputs": [
    {
     "name": "stdout",
     "output_type": "stream",
     "text": [
      "Livermore High School\n"
     ]
    }
   ],
   "source": [
    "print ( '{0} High {1}'.format('Livermore', 'School'))"
   ]
  },
  {
   "cell_type": "code",
   "execution_count": 18,
   "metadata": {},
   "outputs": [
    {
     "name": "stdout",
     "output_type": "stream",
     "text": [
      "                Livermore High School         \n"
     ]
    }
   ],
   "source": [
    "print ( '{0:>25} High {1:15}'.format('Livermore', 'School'))"
   ]
  },
  {
   "cell_type": "code",
   "execution_count": 15,
   "metadata": {},
   "outputs": [
    {
     "name": "stdout",
     "output_type": "stream",
     "text": [
      "This spam is absolutely horrible.\n"
     ]
    }
   ],
   "source": [
    "print('This {food} is {adjective}.'.format(food='spam', adjective='absolutely horrible'))"
   ]
  },
  {
   "cell_type": "code",
   "execution_count": 13,
   "metadata": {},
   "outputs": [
    {
     "name": "stdout",
     "output_type": "stream",
     "text": [
      "The average is 56.67 \n",
      "The average is 60.00\n"
     ]
    }
   ],
   "source": [
    "avg = (100 + 50 + 20) / 3\n",
    "\n",
    "print (\"The average is {0:.2f} \".format(avg))\n",
    "\n",
    "print('The average is {0:.2f}'.format(59.999999))"
   ]
  },
  {
   "cell_type": "code",
   "execution_count": 19,
   "metadata": {},
   "outputs": [
    {
     "name": "stdout",
     "output_type": "stream",
     "text": [
      "12345.68\n",
      "     12345\n",
      "1.234568e+04\n",
      "1.23e+04\n",
      "1234567.89%\n"
     ]
    }
   ],
   "source": [
    "print ( format(12345.6789, '.2f'))\n",
    "print ( format(12345, '10d'))\n",
    "print ( format(12345.6789, 'e'))\n",
    "print ( format(12345.6789, '.2e'))\n",
    "print ( format(12345.6789, '.2%'))"
   ]
  },
  {
   "cell_type": "code",
   "execution_count": 2,
   "metadata": {},
   "outputs": [
    {
     "name": "stdout",
     "output_type": "stream",
     "text": [
      "one\n",
      "two\n",
      "three\n",
      "one two three one/two/three\n"
     ]
    }
   ],
   "source": [
    "# 2.8 More about Data output\n",
    "\n",
    "print ('one')\n",
    "print ('two')\n",
    "print ('three')\n",
    "\n",
    "print ('one', end=' ')\n",
    "print ('two', end=' ')\n",
    "print ('three', end=' ')\n",
    "\n",
    "#? Specifying an Item Separator\n",
    "print ('one', 'two', 'three', sep='/')\n"
   ]
  },
  {
   "cell_type": "markdown",
   "metadata": {},
   "source": [
    "***\n",
    "## Variables\n",
    "#### Concepts:\n",
    "<blockquote> A variable is a name that represents a value stored in the computer’s memory. \n",
    "</blockquote>\n"
   ]
  },
  {
   "cell_type": "markdown",
   "metadata": {},
   "source": [
    "<blockquote>\n",
    "An assignment statement is written in the following general format:\n",
    "variable = expression\n",
    "</blockquote>"
   ]
  },
  {
   "cell_type": "code",
   "execution_count": 3,
   "metadata": {},
   "outputs": [],
   "source": [
    "width = 10\n",
    "length = 5\n",
    "\n",
    "length = 10 "
   ]
  },
  {
   "cell_type": "code",
   "execution_count": 2,
   "metadata": {},
   "outputs": [],
   "source": [
    "class_name = 'Python'\n"
   ]
  },
  {
   "cell_type": "code",
   "execution_count": 5,
   "metadata": {},
   "outputs": [
    {
     "data": {
      "text/plain": [
       "int"
      ]
     },
     "execution_count": 5,
     "metadata": {},
     "output_type": "execute_result"
    }
   ],
   "source": [
    "type(width)"
   ]
  },
  {
   "cell_type": "code",
   "execution_count": 4,
   "metadata": {},
   "outputs": [
    {
     "data": {
      "text/plain": [
       "str"
      ]
     },
     "execution_count": 4,
     "metadata": {},
     "output_type": "execute_result"
    }
   ],
   "source": [
    "\n",
    "type(class_name)"
   ]
  },
  {
   "cell_type": "markdown",
   "metadata": {},
   "source": [
    "***\n",
    "## Keyboard Input\n",
    "\n",
    "<blockquote>\n",
    "variable = input(prompt)\n",
    "</blockquote>"
   ]
  },
  {
   "cell_type": "code",
   "execution_count": 10,
   "metadata": {},
   "outputs": [
    {
     "name": "stdout",
     "output_type": "stream",
     "text": [
      "Your score is  100\n"
     ]
    }
   ],
   "source": [
    "score = input('Enter your score')\n",
    "print ('Your score is ', score)\n"
   ]
  },
  {
   "cell_type": "code",
   "execution_count": null,
   "metadata": {},
   "outputs": [],
   "source": [
    "score = input ('Enter your score')\n",
    "final_score = score + 100;\t\t# this line causes an error\n",
    "\n",
    "print (final_score)"
   ]
  },
  {
   "cell_type": "code",
   "execution_count": 12,
   "metadata": {},
   "outputs": [
    {
     "name": "stdout",
     "output_type": "stream",
     "text": [
      "200\n"
     ]
    }
   ],
   "source": [
    "score = input ('Enter your score')\n",
    "final_score = int(score) + 100;\t\t# this line causes an error\n",
    "\n",
    "print (final_score)"
   ]
  },
  {
   "cell_type": "markdown",
   "metadata": {},
   "source": [
    "***\n",
    "### Operators\n",
    "![Operators](https://p76.f0.n0.cdn.getcloudapp.com/items/6quEZnzo/bd9ed612-c454-488d-99e3-47237866c01e.jpg?source=viewer&v=6133a6ca78498b57666506941afd8a12)"
   ]
  },
  {
   "cell_type": "markdown",
   "metadata": {},
   "source": []
  },
  {
   "cell_type": "markdown",
   "metadata": {},
   "source": [
    "***\n",
    "### String \n",
    "#### Exercise 3"
   ]
  },
  {
   "cell_type": "code",
   "execution_count": 38,
   "metadata": {},
   "outputs": [
    {
     "name": "stdout",
     "output_type": "stream",
     "text": [
      "Python Programming\n",
      "Python\n",
      "Python \n",
      "['Python', 'Programming']\n",
      "Python\n",
      "Programming\n"
     ]
    }
   ],
   "source": [
    "cname = \"Python Programming\"\n",
    "\n",
    "print (cname)\n",
    "print (cname[:6])\n",
    "print (cname[:-11]) \n",
    "\n",
    "\n",
    "print (cname.split(\" \"))\n",
    "print (cname.split()[0])\n",
    "print (cname.split()[1])"
   ]
  },
  {
   "cell_type": "code",
   "execution_count": null,
   "metadata": {},
   "outputs": [],
   "source": []
  }
 ],
 "metadata": {
  "interpreter": {
   "hash": "a614fddea9d37e019a720cc724ab725ff28be4e0e64e91a691a8738e1909110d"
  },
  "kernelspec": {
   "display_name": "Python 3.9.7 64-bit ('base': conda)",
   "language": "python",
   "name": "python3"
  },
  "language_info": {
   "codemirror_mode": {
    "name": "ipython",
    "version": 3
   },
   "file_extension": ".py",
   "mimetype": "text/x-python",
   "name": "python",
   "nbconvert_exporter": "python",
   "pygments_lexer": "ipython3",
   "version": "3.9.7"
  },
  "orig_nbformat": 4
 },
 "nbformat": 4,
 "nbformat_minor": 2
}
