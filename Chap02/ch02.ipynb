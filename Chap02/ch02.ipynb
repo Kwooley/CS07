{
 "cells": [
  {
   "cell_type": "markdown",
   "metadata": {},
   "source": [
    "### Simple Formatting Numbers"
   ]
  },
  {
   "cell_type": "code",
   "execution_count": 1,
   "metadata": {},
   "outputs": [
    {
     "name": "stdout",
     "output_type": "stream",
     "text": [
      "      123456789\n",
      "12345.68\n"
     ]
    }
   ],
   "source": [
    "\n",
    "print (format(123456789, '15d'))\n",
    "print (format(12345.678, '.2f'))\n"
   ]
  },
  {
   "cell_type": "code",
   "execution_count": 24,
   "metadata": {},
   "outputs": [
    {
     "name": "stdout",
     "output_type": "stream",
     "text": [
      "1.234568e+04\n",
      "1.23e+04\n"
     ]
    }
   ],
   "source": [
    "print (format(12345.6789, 'e'))\n",
    "print (format(12345.6789, '.2e'))\n"
   ]
  },
  {
   "cell_type": "code",
   "execution_count": 26,
   "metadata": {},
   "outputs": [
    {
     "name": "stdout",
     "output_type": "stream",
     "text": [
      "123,456,789.12\n"
     ]
    }
   ],
   "source": [
    "#? Inserting comma separator\n",
    "\n",
    "print (format(123456789.12345, ',.2f'))\n"
   ]
  },
  {
   "cell_type": "code",
   "execution_count": 31,
   "metadata": {},
   "outputs": [
    {
     "name": "stdout",
     "output_type": "stream",
     "text": [
      "1234567.89%\n"
     ]
    }
   ],
   "source": [
    "#? Floating point numbers as a percentage\n",
    "\n",
    "print (format(12345.6789, '.2%'))"
   ]
  },
  {
   "cell_type": "markdown",
   "metadata": {},
   "source": [
    "#### Using the String format"
   ]
  },
  {
   "cell_type": "code",
   "execution_count": 15,
   "metadata": {},
   "outputs": [
    {
     "name": "stdout",
     "output_type": "stream",
     "text": [
      "This spam is absolutely horrible.\n"
     ]
    }
   ],
   "source": [
    "print('This {food} is {adjective}.'.format(food='spam', adjective='absolutely horrible'))"
   ]
  },
  {
   "cell_type": "code",
   "execution_count": 13,
   "metadata": {},
   "outputs": [
    {
     "name": "stdout",
     "output_type": "stream",
     "text": [
      "The average is 56.67 \n",
      "The average is 60.00\n"
     ]
    }
   ],
   "source": [
    "avg = (100 + 50 + 20) / 3\n",
    "\n",
    "print (\"The average is {0:.2f} \".format(avg))\n",
    "\n",
    "print('The average is {0:.2f}'.format(59.999999))"
   ]
  },
  {
   "cell_type": "code",
   "execution_count": 2,
   "metadata": {},
   "outputs": [
    {
     "name": "stdout",
     "output_type": "stream",
     "text": [
      "one\n",
      "two\n",
      "three\n",
      "one two three one/two/three\n"
     ]
    }
   ],
   "source": [
    "# 2.8 More about Data output\n",
    "\n",
    "print ('one')\n",
    "print ('two')\n",
    "print ('three')\n",
    "\n",
    "print ('one', end=' ')\n",
    "print ('two', end=' ')\n",
    "print ('three', end=' ')\n",
    "\n",
    "#? Specifying an Item Separator\n",
    "print ('one', 'two', 'three', sep='/')\n"
   ]
  },
  {
   "cell_type": "markdown",
   "metadata": {},
   "source": [
    "### String \n",
    "#### Exercise 3"
   ]
  },
  {
   "cell_type": "code",
   "execution_count": 38,
   "metadata": {},
   "outputs": [
    {
     "name": "stdout",
     "output_type": "stream",
     "text": [
      "Python Programming\n",
      "Python\n",
      "Python \n",
      "['Python', 'Programming']\n",
      "Python\n",
      "Programming\n"
     ]
    }
   ],
   "source": [
    "cname = \"Python Programming\"\n",
    "\n",
    "print (cname)\n",
    "print (cname[:6])\n",
    "print (cname[:-11]) \n",
    "\n",
    "\n",
    "print (cname.split(\" \"))\n",
    "print (cname.split()[0])\n",
    "print (cname.split()[1])"
   ]
  },
  {
   "cell_type": "code",
   "execution_count": null,
   "metadata": {},
   "outputs": [],
   "source": []
  }
 ],
 "metadata": {
  "interpreter": {
   "hash": "a614fddea9d37e019a720cc724ab725ff28be4e0e64e91a691a8738e1909110d"
  },
  "kernelspec": {
   "display_name": "Python 3.9.7 64-bit ('base': conda)",
   "language": "python",
   "name": "python3"
  },
  "language_info": {
   "codemirror_mode": {
    "name": "ipython",
    "version": 3
   },
   "file_extension": ".py",
   "mimetype": "text/x-python",
   "name": "python",
   "nbconvert_exporter": "python",
   "pygments_lexer": "ipython3",
   "version": "3.9.7"
  },
  "orig_nbformat": 4
 },
 "nbformat": 4,
 "nbformat_minor": 2
}
