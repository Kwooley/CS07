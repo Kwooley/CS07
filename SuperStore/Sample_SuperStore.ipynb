{
 "cells": [
  {
   "cell_type": "markdown",
   "metadata": {},
   "source": [
    "## Data Analysis Example\n",
    "### Sample Excel File for SuperStore : \n",
    "\n",
    "https://community.tableau.com/s/question/0D54T00000CWeX8SAL/sample-superstore-sales-excelxls "
   ]
  },
  {
   "cell_type": "code",
   "execution_count": null,
   "metadata": {},
   "outputs": [],
   "source": [
    "import xlrd\n",
    "\n",
    "wb = xlrd.open_workbook('SampleSuperStore.xls')\n",
    "# ws = wb.active\n",
    "ws = wb.sheet_by_index(0)\n",
    "\n",
    "# data = [ws.row_values(rowx) for rowx in range(ws.nrows)]\n",
    "\n",
    "listrows = []\n",
    "for row in range(5):\n",
    "\tlistrows.append(ws.row_values(row))\n",
    "\n",
    "\n",
    "print (listrows)\n",
    "\n",
    "\n"
   ]
  },
  {
   "cell_type": "code",
   "execution_count": null,
   "metadata": {},
   "outputs": [],
   "source": [
    "import pandas as pd\n",
    "\n",
    "df = pd.read_excel('SampleSuperStore.xls')\n",
    "\n",
    "df\n"
   ]
  },
  {
   "cell_type": "code",
   "execution_count": null,
   "metadata": {},
   "outputs": [],
   "source": [
    "df.info()\n",
    "df.dtypes"
   ]
  },
  {
   "cell_type": "code",
   "execution_count": null,
   "metadata": {},
   "outputs": [],
   "source": [
    "print (df.count())"
   ]
  },
  {
   "cell_type": "code",
   "execution_count": 12,
   "metadata": {},
   "outputs": [
    {
     "data": {
      "text/plain": [
       "Row ID                                           1\n",
       "Order ID                            CA-2016-152156\n",
       "Order Date                     2016-11-08 00:00:00\n",
       "Ship Date                      2016-11-11 00:00:00\n",
       "Ship Mode                             Second Class\n",
       "Customer ID                               CG-12520\n",
       "Customer Name                          Claire Gute\n",
       "Segment                                   Consumer\n",
       "Country                              United States\n",
       "City                                     Henderson\n",
       "State                                     Kentucky\n",
       "Postal Code                                  42420\n",
       "Region                                       South\n",
       "Product ID                         FUR-BO-10001798\n",
       "Category                                 Furniture\n",
       "Sub-Category                             Bookcases\n",
       "Product Name     Bush Somerset Collection Bookcase\n",
       "Sales                                       261.96\n",
       "Quantity                                         2\n",
       "Discount                                       0.0\n",
       "Profit                                     41.9136\n",
       "Name: 0, dtype: object"
      ]
     },
     "execution_count": 12,
     "metadata": {},
     "output_type": "execute_result"
    }
   ],
   "source": [
    "df.loc[0]"
   ]
  },
  {
   "cell_type": "code",
   "execution_count": 6,
   "metadata": {},
   "outputs": [
    {
     "data": {
      "text/plain": [
       "Row ID                    int64\n",
       "Order ID                 object\n",
       "Order Date       datetime64[ns]\n",
       "Ship Date        datetime64[ns]\n",
       "Ship Mode                object\n",
       "Customer ID              object\n",
       "Customer Name            object\n",
       "Segment                  object\n",
       "Country                  object\n",
       "City                     object\n",
       "State                    object\n",
       "Postal Code               int64\n",
       "Region                   object\n",
       "Product ID               object\n",
       "Category                 object\n",
       "Sub-Category             object\n",
       "Product Name             object\n",
       "Sales                   float64\n",
       "Quantity                  int64\n",
       "Discount                float64\n",
       "Profit                  float64\n",
       "dtype: object"
      ]
     },
     "execution_count": 6,
     "metadata": {},
     "output_type": "execute_result"
    }
   ],
   "source": [
    "df.dtypes"
   ]
  },
  {
   "cell_type": "code",
   "execution_count": null,
   "metadata": {},
   "outputs": [],
   "source": [
    "pd.set_option('display.max_columns', 100)\n",
    "df[df['State'] == 'California']\n"
   ]
  },
  {
   "cell_type": "code",
   "execution_count": null,
   "metadata": {},
   "outputs": [],
   "source": [
    "df[df['City'] == 'Los Angeles']"
   ]
  },
  {
   "cell_type": "code",
   "execution_count": null,
   "metadata": {},
   "outputs": [],
   "source": [
    "df[(df['City'] == 'Los Angeles' )| (df['City'] == 'Costa Mesa')]"
   ]
  },
  {
   "cell_type": "code",
   "execution_count": null,
   "metadata": {},
   "outputs": [],
   "source": [
    "df[df['State'].str.contains(r'^C+')]"
   ]
  },
  {
   "cell_type": "markdown",
   "metadata": {},
   "source": [
    "### Misc"
   ]
  },
  {
   "cell_type": "code",
   "execution_count": 6,
   "metadata": {},
   "outputs": [
    {
     "name": "stdout",
     "output_type": "stream",
     "text": [
      "['Hello', 'World', '2021', 'and', 'welcolme', '2022']\n",
      "Hello World 2021\n"
     ]
    }
   ],
   "source": [
    "string1 = \"Hello-World-2021-and-welcolme-2022\"\n",
    "\n",
    "ret = string1.split('-')\n",
    "print (ret)\n",
    "\n",
    "first, second, third, *rest = string1.split('-')\n",
    "print (first, second, third)\n"
   ]
  },
  {
   "cell_type": "markdown",
   "metadata": {},
   "source": [
    "#### Re"
   ]
  },
  {
   "cell_type": "code",
   "execution_count": 24,
   "metadata": {},
   "outputs": [
    {
     "name": "stdout",
     "output_type": "stream",
     "text": [
      "True\n"
     ]
    }
   ],
   "source": [
    "import re\n",
    "\n",
    "reg = re.compile(\"Ca+\")\n",
    "string = 'California'\n",
    "print (bool(re.match(reg, string )))\n"
   ]
  },
  {
   "cell_type": "markdown",
   "metadata": {},
   "source": [
    "#### <a ref=\"https://www.dataquest.io/blog/regular-expressions-data-scientists/\"> Common Python Regex Patterns </a>\n",
    "<img src=\"https://nimbus-screenshots.s3.amazonaws.com/s/b80b8bd249ab7ba7e92d6205a165b66f.png\" align=left>"
   ]
  }
 ],
 "metadata": {
  "interpreter": {
   "hash": "a614fddea9d37e019a720cc724ab725ff28be4e0e64e91a691a8738e1909110d"
  },
  "kernelspec": {
   "display_name": "Python 3.9.7 64-bit ('base': conda)",
   "language": "python",
   "name": "python3"
  },
  "language_info": {
   "codemirror_mode": {
    "name": "ipython",
    "version": 3
   },
   "file_extension": ".py",
   "mimetype": "text/x-python",
   "name": "python",
   "nbconvert_exporter": "python",
   "pygments_lexer": "ipython3",
   "version": "3.9.7"
  },
  "orig_nbformat": 4
 },
 "nbformat": 4,
 "nbformat_minor": 2
}
