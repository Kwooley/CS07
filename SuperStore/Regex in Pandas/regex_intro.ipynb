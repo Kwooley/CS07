{
 "cells": [
  {
   "cell_type": "code",
   "execution_count": null,
   "metadata": {},
   "outputs": [],
   "source": [
    "import pandas as pd\n",
    "\n",
    "df = pd.read_excel('../SampleSuperStore.xls')\n",
    "\n",
    "df.info()\n"
   ]
  },
  {
   "cell_type": "markdown",
   "metadata": {},
   "source": [
    "#### <a ref=\"https://kanoki.org/2019/11/12/how-to-use-regex-in-pandas/\"> How to use Regex in Pandas </a>\n",
    "<img src=\"https://nimbus-screenshots.s3.amazonaws.com/s/1c7b9adfe28b0649b12308a69b9fa590.png\" align=left>"
   ]
  },
  {
   "cell_type": "code",
   "execution_count": null,
   "metadata": {},
   "outputs": [],
   "source": [
    "df['City'].str.count(r'L.*')\n",
    "df['City'].str.contains(r'L.*')"
   ]
  },
  {
   "cell_type": "code",
   "execution_count": 6,
   "metadata": {},
   "outputs": [
    {
     "data": {
      "text/plain": [
       "2       Los Angeles\n",
       "5       Los Angeles\n",
       "6       Los Angeles\n",
       "7       Los Angeles\n",
       "8       Los Angeles\n",
       "           ...     \n",
       "9985     Long Beach\n",
       "9986    Los Angeles\n",
       "9990     Costa Mesa\n",
       "9991     Costa Mesa\n",
       "9992     Costa Mesa\n",
       "Name: City, Length: 2267, dtype: object"
      ]
     },
     "execution_count": 6,
     "metadata": {},
     "output_type": "execute_result"
    }
   ],
   "source": [
    "df[df['City'].str.contains('^[LC].*')]['City']"
   ]
  },
  {
   "cell_type": "code",
   "execution_count": null,
   "metadata": {},
   "outputs": [],
   "source": [
    "df['City'].str.findall('^[LC].*')"
   ]
  },
  {
   "cell_type": "markdown",
   "metadata": {},
   "source": [
    "#### <a ref=\"https://www.dataquest.io/blog/regular-expressions-data-scientists/\"> Common Python Regex Patterns </a>\n",
    "<img src=\"https://nimbus-screenshots.s3.amazonaws.com/s/b80b8bd249ab7ba7e92d6205a165b66f.png\" align=left>"
   ]
  }
 ],
 "metadata": {
  "interpreter": {
   "hash": "a614fddea9d37e019a720cc724ab725ff28be4e0e64e91a691a8738e1909110d"
  },
  "kernelspec": {
   "display_name": "Python 3.9.7 64-bit ('base': conda)",
   "language": "python",
   "name": "python3"
  },
  "language_info": {
   "codemirror_mode": {
    "name": "ipython",
    "version": 3
   },
   "file_extension": ".py",
   "mimetype": "text/x-python",
   "name": "python",
   "nbconvert_exporter": "python",
   "pygments_lexer": "ipython3",
   "version": "3.9.7"
  },
  "orig_nbformat": 4
 },
 "nbformat": 4,
 "nbformat_minor": 2
}
