{
 "cells": [
  {
   "cell_type": "markdown",
   "metadata": {},
   "source": [
    "## Exercise 1\n",
    "### Create a list with 5 integer values (user input)\n",
    "### Calculate summation and average except min and max"
   ]
  },
  {
   "cell_type": "code",
   "execution_count": 4,
   "metadata": {},
   "outputs": [
    {
     "name": "stdout",
     "output_type": "stream",
     "text": [
      "Total :  19 Average:  3.8\n"
     ]
    }
   ],
   "source": [
    "\n",
    "i = 0\n",
    "sum = 0\n",
    "while i in range(5):\n",
    "\tnum = int(input('Enter the number: '))\n",
    "\tif i == 0:\n",
    "\t\tmin = max = num\n",
    "\telse:\n",
    "\t\tif (min > num):\n",
    "\t\t\tmin = num\n",
    "\t\telif (max < num):\n",
    "\t\t\tmax = num\n",
    "\tsum += num\n",
    "\ti += 1\n",
    "sum -= min - max\n",
    "print ('Total : ', sum, 'Average: ', sum / 5.0)"
   ]
  },
  {
   "cell_type": "markdown",
   "metadata": {},
   "source": [
    "## Exercise 2\n",
    "<ul>\n",
    "<li style=\"font-weight: 400;\" aria-level=\"1\"><span style=\"font-weight: 400;\">Find the smallest number in the list</span></li>\n",
    "<ul>\n",
    "<li style=\"font-weight: 400;\" aria-level=\"2\"><span style=\"font-weight: 400;\">print the value and index</span></li>\n",
    "</ul>\n",
    "<li style=\"font-weight: 400;\" aria-level=\"1\"><span style=\"font-weight: 400;\">Use the </span><strong>built-in</strong><span style=\"font-weight: 400;\"> function&nbsp;</span></li>\n",
    "<ul>\n",
    "<li style=\"font-weight: 400;\" aria-level=\"2\"><span style=\"font-weight: 400;\">min( )</span></li>\n",
    "</ul>\n",
    "<li style=\"font-weight: 400;\" aria-level=\"1\"><span style=\"font-weight: 400;\">Use the </span><strong>method</strong></li>\n",
    "<ul>\n",
    "<li style=\"font-weight: 400;\" aria-level=\"2\"><span style=\"font-weight: 400;\">index( )</span></li>\n",
    "</ul>\n",
    "</ul>"
   ]
  },
  {
   "cell_type": "code",
   "execution_count": 6,
   "metadata": {},
   "outputs": [
    {
     "name": "stdout",
     "output_type": "stream",
     "text": [
      "[1, 8, 0, 12, 9, 17, 15, 1, 15, 18]\n",
      "The min value is 0 and the max value is 18\n"
     ]
    }
   ],
   "source": [
    "import random \n",
    "\n",
    "numbers = []\n",
    "for i in range(10):\n",
    "\tnumbers.append(random.randint(0,20))\n",
    "minval = min(numbers)\n",
    "maxval = max(numbers)\n",
    "\n",
    "print (numbers)\n",
    "print (\"The min value is {0} and the max value is {1}\".format(minval, maxval))"
   ]
  },
  {
   "cell_type": "code",
   "execution_count": null,
   "metadata": {},
   "outputs": [],
   "source": [
    "import random \n",
    "\n",
    "numbers = []\n",
    "for i in range(10):\n",
    "\tnumbers.append(random.randint(0,20))\n",
    "\n",
    "minval = 0\n",
    "for i in range(10):\n",
    "\tif ( minval > numbers[i] ):\n",
    "\t\tminval = numbers[i]\n",
    "print (minval)\n",
    "\n"
   ]
  },
  {
   "cell_type": "markdown",
   "metadata": {},
   "source": [
    "## Exercise 3\n",
    "<ul>\n",
    "<li style=\"font-weight: 400;\" aria-level=\"1\">\n",
    "<ul>\n",
    "<li style=\"font-weight: 400;\" aria-level=\"1\"><span style=\"font-weight: 400;\">Create a list with 10 integer values with random numbers</span></li>\n",
    "<li style=\"font-weight: 400;\" aria-level=\"1\"><span style=\"font-weight: 400;\">Find the number of elements which is greater than the average value</span></li>\n",
    "</ul>\n",
    "<br />\n",
    "<ul>\n",
    "<li style=\"font-weight: 400;\" aria-level=\"1\"><span style=\"font-weight: 400;\">You can use any methods in list</span></li>\n",
    "<ol>\n",
    "<li style=\"font-weight: 400;\" aria-level=\"2\"><a href=\"https://docs.python.org/3/tutorial/datastructures.html#more-on-lists\"><span style=\"font-weight: 400;\">https://docs.python.org/3/tutorial/datastructures.html#more-on-lists</span></a><span style=\"font-weight: 400;\">&nbsp;</span></li>\n",
    "</ol>\n",
    "</ul>\n",
    "</li>\n",
    "</ul>"
   ]
  },
  {
   "cell_type": "code",
   "execution_count": 10,
   "metadata": {},
   "outputs": [
    {
     "name": "stdout",
     "output_type": "stream",
     "text": [
      "The total is        109 and average is      10.90\n"
     ]
    }
   ],
   "source": [
    "import random \n",
    "\n",
    "numbers = []\n",
    "for i in range(10):\n",
    "\tnumbers.append(random.randint(0,20))\n",
    "\n",
    "total = sum(numbers)\n",
    "average = total / len(numbers)\n",
    "\n",
    "print (\"The total is {:10d} and average is {:10.2f}\".format(total, average))\n",
    "\n"
   ]
  },
  {
   "cell_type": "markdown",
   "metadata": {},
   "source": [
    "## Exercise 4\n",
    "<ul>\n",
    "<li style=\"font-weight: 400;\" aria-level=\"1\">\n",
    "<ul>\n",
    "<li style=\"font-weight: 400;\" aria-level=\"1\"><span style=\"font-weight: 400;\">Create two lists with 10 integer values with random numbers(between 0 and 10)</span></li>\n",
    "<li style=\"font-weight: 400;\" aria-level=\"1\"><span style=\"font-weight: 400;\">Make an additional list that contains the summation of two lists for the same index element</span></li>\n",
    "<li style=\"font-weight: 400;\" aria-level=\"1\">&nbsp;</li>\n",
    "</ul>\n",
    "</li>\n",
    "</ul>\n",
    "<img src=\"https://nimbus-screenshots.s3.amazonaws.com/s/a654afd9a26a37777e1bcc13d57b5d6a.png\">"
   ]
  },
  {
   "cell_type": "code",
   "execution_count": 13,
   "metadata": {},
   "outputs": [
    {
     "name": "stdout",
     "output_type": "stream",
     "text": [
      "The list 1 :  [3, 10, 13, 0, 0, 7, 5, 9, 14, 20]\n",
      "The list 2 :  [5, 20, 12, 16, 10, 8, 15, 14, 20, 15]\n",
      "The list 3 :  [8, 30, 25, 16, 10, 15, 20, 23, 34, 35]\n"
     ]
    }
   ],
   "source": [
    "import random \n",
    "\n",
    "numbers1 = []\n",
    "numbers2 = []\n",
    "numbers3 = []\n",
    "for i in range(10):\n",
    "\tnumbers1.append(random.randint(0,20))\n",
    "\tnumbers2.append(random.randint(0,20))\n",
    "\tnumbers3.append(numbers1[i] + numbers2[i])\n",
    "\n",
    "print (\"The list 1 : \" , numbers1)\n",
    "print (\"The list 2 : \" , numbers2)\n",
    "print (\"The list 3 : \" , numbers3)\n",
    "\n"
   ]
  }
 ],
 "metadata": {
  "interpreter": {
   "hash": "a614fddea9d37e019a720cc724ab725ff28be4e0e64e91a691a8738e1909110d"
  },
  "kernelspec": {
   "display_name": "Python 3.9.7 ('base')",
   "language": "python",
   "name": "python3"
  },
  "language_info": {
   "codemirror_mode": {
    "name": "ipython",
    "version": 3
   },
   "file_extension": ".py",
   "mimetype": "text/x-python",
   "name": "python",
   "nbconvert_exporter": "python",
   "pygments_lexer": "ipython3",
   "version": "3.9.7"
  },
  "orig_nbformat": 4
 },
 "nbformat": 4,
 "nbformat_minor": 2
}
