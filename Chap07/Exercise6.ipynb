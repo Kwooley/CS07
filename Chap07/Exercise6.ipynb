{
 "cells": [
  {
   "cell_type": "markdown",
   "metadata": {},
   "source": [
    "<p><strong>Exercise 6</strong></p>\n",
    "<ul>\n",
    "<li style=\"font-weight: 400;\" aria-level=\"1\"><span style=\"font-weight: 400;\">Create a string list for names</span>\n",
    "<ul>\n",
    "<li style=\"font-weight: 400;\" aria-level=\"2\"><span style=\"font-weight: 400;\">Take 5 students' names as user inputs</span></li>\n",
    "<li style=\"font-weight: 400;\" aria-level=\"2\"><span style=\"font-weight: 400;\">Find the name includes &lsquo;J&rsquo;</span></li>\n",
    "</ul>\n",
    "</li>\n",
    "</ul>"
   ]
  },
  {
   "cell_type": "code",
   "execution_count": 1,
   "metadata": {},
   "outputs": [
    {
     "name": "stdout",
     "output_type": "stream",
     "text": [
      "James\n"
     ]
    }
   ],
   "source": [
    "names = ['James', 'Robert', 'Kurt', 'Bill', 'Matt']\n",
    "\n",
    "for i in range(len(names)):\n",
    "\tif ( 'J' in names[i]):\n",
    "\t\tprint (names[i])\n",
    "\t\t"
   ]
  }
 ],
 "metadata": {
  "interpreter": {
   "hash": "32cd87c0c55905266dc8232ebf1148f668af0d9324249c125246585210a29cd6"
  },
  "kernelspec": {
   "display_name": "Python 3.9.7 ('base')",
   "language": "python",
   "name": "python3"
  },
  "language_info": {
   "codemirror_mode": {
    "name": "ipython",
    "version": 3
   },
   "file_extension": ".py",
   "mimetype": "text/x-python",
   "name": "python",
   "nbconvert_exporter": "python",
   "pygments_lexer": "ipython3",
   "version": "3.9.7"
  },
  "orig_nbformat": 4
 },
 "nbformat": 4,
 "nbformat_minor": 2
}
