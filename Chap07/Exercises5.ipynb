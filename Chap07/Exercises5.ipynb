{
 "cells": [
  {
   "cell_type": "markdown",
   "metadata": {},
   "source": [
    "<p>&nbsp;</p>\n",
    "<p><strong>Exercise 5</strong></p>\n",
    "<ul>\n",
    "<li style=\"font-weight: 400;\" aria-level=\"1\"><span style=\"font-weight: 400;\">Create two lists with 10 integer values with random numbers(between 0 and 10)</span></li>\n",
    "<li style=\"font-weight: 400;\" aria-level=\"1\"><span style=\"font-weight: 400;\">Make a new list from the original list&nbsp;</span></li>\n",
    "<ul>\n",
    "<li style=\"font-weight: 400;\" aria-level=\"2\"><span style=\"font-weight: 400;\">that contains the even number index elements(includes 0 index)</span></li>\n",
    "</ul>\n",
    "</ul>"
   ]
  },
  {
   "cell_type": "code",
   "execution_count": 5,
   "metadata": {},
   "outputs": [
    {
     "name": "stdout",
     "output_type": "stream",
     "text": [
      "The original list \n",
      " [12, 8, 10, 7, 15, 8, 2, 5, 20, 2]\n",
      "The new list from the even index elements of original list\n",
      " [12, 10, 15, 2, 20]\n"
     ]
    }
   ],
   "source": [
    "import random \n",
    "\n",
    "numbers = []\n",
    "for i in range(10):\n",
    "\tnumbers.append(random.randint(0,20))\n",
    "print (\"The original list \\n\", numbers)\n",
    "\n",
    "\n",
    "new_list = [ numbers[i] for i in range(0, len(numbers), 2)]\n",
    "\n",
    "print (\"The new list from the even index elements of original list\\n\", new_list)"
   ]
  }
 ],
 "metadata": {
  "interpreter": {
   "hash": "32cd87c0c55905266dc8232ebf1148f668af0d9324249c125246585210a29cd6"
  },
  "kernelspec": {
   "display_name": "Python 3.9.7 ('base')",
   "language": "python",
   "name": "python3"
  },
  "language_info": {
   "codemirror_mode": {
    "name": "ipython",
    "version": 3
   },
   "file_extension": ".py",
   "mimetype": "text/x-python",
   "name": "python",
   "nbconvert_exporter": "python",
   "pygments_lexer": "ipython3",
   "version": "3.9.7"
  },
  "orig_nbformat": 4
 },
 "nbformat": 4,
 "nbformat_minor": 2
}
