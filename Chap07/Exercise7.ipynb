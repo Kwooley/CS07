{
 "cells": [
  {
   "cell_type": "markdown",
   "metadata": {},
   "source": [
    "<p><strong>Exercise 7</strong></p>\n",
    "<ul>\n",
    "<li style=\"font-weight: 400;\" aria-level=\"1\">\n",
    "<ul>\n",
    "<li style=\"font-weight: 400;\" aria-level=\"1\"><span style=\"font-weight: 400;\">Create a list with 10 integer values with random numbers</span></li>\n",
    "</ul>\n",
    "<ol>\n",
    "<li style=\"font-weight: 400;\" aria-level=\"1\"><span style=\"font-weight: 400;\">Get one integer from the user</span></li>\n",
    "<li style=\"font-weight: 400;\" aria-level=\"1\"><span style=\"font-weight: 400;\">Insert the value into the sorted list</span></li>\n",
    "</ol>\n",
    "</li>\n",
    "</ul>"
   ]
  },
  {
   "cell_type": "code",
   "execution_count": 7,
   "metadata": {},
   "outputs": [
    {
     "name": "stdout",
     "output_type": "stream",
     "text": [
      "Before sorted\n",
      " [17, 19, 14, 10, 6, 9, 19, 13, 6, 19]\n",
      "Before insertion\n",
      " [6, 6, 9, 10, 13, 14, 17, 19, 19, 19]\n",
      "After insertion\n",
      " [6, 6, 9, 10, 13, 14, 15, 17, 19, 19, 19]\n"
     ]
    }
   ],
   "source": [
    "import random \n",
    "\n",
    "numbers = []\n",
    "for i in range(10):\n",
    "\tnumbers.append(random.randint(0,20))\n",
    "print (\"Before sorted\\n\", numbers)\n",
    "\n",
    "insert_val = int(input(\"Enter one integer\"))\n",
    "#numbers = sorted(numbers)\n",
    "numbers.sort()\n",
    "\n",
    "print (\"Before insertion\\n\", numbers)\n",
    "\n",
    "\n",
    "for i in range(len(numbers)):\n",
    "\tif ( insert_val < numbers[i]):\n",
    "\t\tnumbers.insert(i, insert_val)\n",
    "\t\tbreak\n",
    "else:\n",
    "\tnumbers.append(insert_val)\n",
    "\n",
    "print (\"After insertion\\n\", numbers)\n",
    "\n",
    "\n"
   ]
  }
 ],
 "metadata": {
  "interpreter": {
   "hash": "32cd87c0c55905266dc8232ebf1148f668af0d9324249c125246585210a29cd6"
  },
  "kernelspec": {
   "display_name": "Python 3.9.7 ('base')",
   "language": "python",
   "name": "python3"
  },
  "language_info": {
   "codemirror_mode": {
    "name": "ipython",
    "version": 3
   },
   "file_extension": ".py",
   "mimetype": "text/x-python",
   "name": "python",
   "nbconvert_exporter": "python",
   "pygments_lexer": "ipython3",
   "version": "3.9.7"
  },
  "orig_nbformat": 4
 },
 "nbformat": 4,
 "nbformat_minor": 2
}
