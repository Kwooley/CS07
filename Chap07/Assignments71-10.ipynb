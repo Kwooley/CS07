{
 "cells": [
  {
   "cell_type": "markdown",
   "metadata": {},
   "source": [
    "#### Assignment #7-1"
   ]
  },
  {
   "cell_type": "code",
   "execution_count": 16,
   "metadata": {},
   "outputs": [
    {
     "name": "stdout",
     "output_type": "stream",
     "text": [
      "[1, 2, 3, 4, 5]\n",
      "Sum: 9 and Average: 3.00\n"
     ]
    }
   ],
   "source": [
    "\n",
    "numbers = list(map(int, input(\"Enter the numbers \").split()))\n",
    "print (numbers)\n",
    "total  = 0\n",
    "for i in range(len(numbers)):\n",
    "\tif ( i == 0):\n",
    "\t\tminval = maxval = numbers[i]\n",
    "\telif numbers[i] < minval:\n",
    "\t\tminval = numbers[i]\n",
    "\telif numbers[i] > maxval:\n",
    "\t\tmaxval = numbers[i]\n",
    "\ttotal += numbers[i]\n",
    "\n",
    "total = total - minval - maxval\n",
    "total -= minval + maxval\n",
    "average = total / (len(numbers) - 2)\n",
    "print (\"total: {0} and Average: {1:.2f}\".format(total, average))\n"
   ]
  },
  {
   "cell_type": "code",
   "execution_count": 3,
   "metadata": {},
   "outputs": [
    {
     "name": "stdout",
     "output_type": "stream",
     "text": [
      "[1, 2, 3, 4, 5]\n",
      "Sum: 9 and Average: 3.00\n"
     ]
    }
   ],
   "source": [
    "\n",
    "numbers = list(map(int, input(\"Enter the numbers \").split()))\n",
    "print (numbers)\n",
    "total = 0\n",
    "\n",
    "minval = min(numbers)\n",
    "maxval = max(numbers)\n",
    "\n",
    "total = sum(numbers) - minval - maxval\n",
    "average = total / (len(numbers)-2)\n",
    "\n",
    "print (\"Sum: {0} and Average: {1:.2f}\".format(total, average))\n"
   ]
  },
  {
   "cell_type": "markdown",
   "metadata": {},
   "source": [
    "<p><span style=\"font-size:26pt\"><span style=\"font-family:Raleway,sans-serif\"><span style=\"color:#1a1a1a\"><strong>Assignment 7-7 : Merge two lists</strong></span></span></span></p>\n",
    "\n",
    "<ul>\n",
    "\t<li style=\"list-style-type:disc\"><span style=\"font-size:13pt\"><span style=\"font-family:Lato,sans-serif\"><span style=\"color:#595959\">We will merge two integer lists. Your program should use an extra array for the merged list. The list that has the shorter length than another one will be placed in the ahead, the longer one should be placed at the last of the result list. When two lists have the same length, any can be placed in the first half.</span></span></span></li>\n",
    "</ul>\n",
    "<ul>\n",
    "\t\t<li style=\"list-style-type:circle\"><span style=\"font-size:11pt\"><span style=\"font-family:Lato,sans-serif\"><span style=\"color:#595959\"><span style=\"background-color:#b7b7b7\">3 1 2 3 </span></span></span></span><span style=\"font-size:11pt\"><span style=\"font-family:Lato,sans-serif\"><span style=\"color:#595959\"><span style=\"background-color:#cfe2f3\">4 4 5 6 7</span></span></span></span></li>\n",
    "</ul>\n",
    "</li>\n",
    "\t<li style=\"list-style-type:disc\"><span style=\"font-size:13pt\"><span style=\"font-family:Lato,sans-serif\"><span style=\"color:#595959\">Print all elements in each list and then merged list.</span></span></span></li>\n",
    "</ul>"
   ]
  },
  {
   "cell_type": "code",
   "execution_count": 7,
   "metadata": {},
   "outputs": [
    {
     "name": "stdout",
     "output_type": "stream",
     "text": [
      "[1, 2, 3]\n",
      "[1, 2, 3, 4]\n"
     ]
    }
   ],
   "source": [
    "N = int(input())\n",
    "\n",
    "num1 = [0] * N\n",
    "for i in range(N):\n",
    "\tnum1[i] = int(input())\n",
    "print (num1)\n",
    "\n",
    "M = int(input())\n",
    "num2 = [0] * M\n",
    "for i in range(M):\n",
    "\tnum2[i] = int(input())\n",
    "print (num2)\n"
   ]
  },
  {
   "cell_type": "code",
   "execution_count": 8,
   "metadata": {},
   "outputs": [
    {
     "name": "stdout",
     "output_type": "stream",
     "text": [
      "[15, 20, 0, 3]\n",
      "0\n",
      "20\n",
      "38\n",
      "18\n",
      "Sum : 18 and Average : 9.0\n"
     ]
    }
   ],
   "source": [
    "# 15 20 0 3 -1 \n",
    "numbers = [ ] \n",
    "i = 0; total = 0\n",
    "while True:\n",
    "\tval  = int(input())\n",
    "\tif ( val < 0 ):\n",
    "\t\tbreak \n",
    "\tnumbers.append(val)\n",
    "\ttotal += val\n",
    "\n",
    "print (numbers)\n",
    "\n",
    "# for i in range(len(numbers)):\n",
    "# \tif (i == 0 ) or (minval > numbers[i]):\n",
    "# \t\tminval = numbers[i]\n",
    "minval = min(numbers)\n",
    "print (minval)\n",
    "\n",
    "# for i in range(len(numbers)):\n",
    "# \tif (i == 0 ) or (maxval < numbers[i]):\n",
    "# \t\tmaxval = numbers[i]\n",
    "maxval = max(numbers)\n",
    "print (maxval)\n",
    "print (total)\n",
    "total = total - maxval - minval \n",
    "print (total)\n",
    "average = total / (len(numbers) - 2 )\n",
    "\n",
    "print (\"Sum : {0} and Average : {1}\".format(total, average) )\n",
    "\n",
    "\n"
   ]
  },
  {
   "cell_type": "code",
   "execution_count": null,
   "metadata": {},
   "outputs": [],
   "source": [
    "num1 = [ 10, 5, 20, 0, 40, 45, 50]\n",
    "num2 = [40, 5, 10]\n",
    "flag = 0\n",
    "for i in range(len(num2)):\n",
    "\tif ( num2[i] in num1 ):\n",
    "\t\tcontinue\n",
    "\telse:\n",
    "\t\tflag = 1\n",
    "\t\tbreak\n",
    "if (flag):\n",
    "\tprint (\"False\")\n",
    "else:\n",
    "\tprint (\"True\")\n"
   ]
  }
 ],
 "metadata": {
  "interpreter": {
   "hash": "a614fddea9d37e019a720cc724ab725ff28be4e0e64e91a691a8738e1909110d"
  },
  "kernelspec": {
   "display_name": "Python 3.9.7 ('base')",
   "language": "python",
   "name": "python3"
  },
  "language_info": {
   "codemirror_mode": {
    "name": "ipython",
    "version": 3
   },
   "file_extension": ".py",
   "mimetype": "text/x-python",
   "name": "python",
   "nbconvert_exporter": "python",
   "pygments_lexer": "ipython3",
   "version": "3.9.7"
  },
  "orig_nbformat": 4
 },
 "nbformat": 4,
 "nbformat_minor": 2
}
