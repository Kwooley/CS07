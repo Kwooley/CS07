{
 "cells": [
  {
   "cell_type": "markdown",
   "metadata": {},
   "source": [
    "<p style=\"list-style-type:disc\"><span style=\"font-size:26pt\"><span style=\"font-family:Raleway,sans-serif\"><span style=\"color:#1a1a1a\"><strong>Exercise 9</strong></span></span></span></p>\n",
    "\n",
    "<ul>\n",
    "\t<li style=\"list-style-type:disc\"><span style=\"font-size:13pt\"><span style=\"font-family:Lato,sans-serif\"><span style=\"color:#595959\">Create a list with 10 integer values with random numbers</span></span></span></li>\n",
    "\t<li style=\"list-style-type:disc\"><span style=\"font-size:13pt\"><span style=\"font-family:Lato,sans-serif\"><span style=\"color:#595959\">Find the i_th smallest number</span></span></span>\n",
    "\t<ul>\n",
    "\t\t<li style=\"list-style-type:circle\"><span style=\"font-size:11pt\"><span style=\"font-family:Lato,sans-serif\"><span style=\"color:#595959\">the value &ldquo;i&rdquo; will be taken from the user input</span></span></span></li>\n",
    "\t\t<li style=\"list-style-type:circle\"><span style=\"font-size:11pt\"><span style=\"font-family:Lato,sans-serif\"><span style=\"color:#595959\">When the i = 1, find the smallest number in the list</span></span></span></li>\n",
    "\t\t<li style=\"list-style-type:circle\"><span style=\"font-size:11pt\"><span style=\"font-family:Lato,sans-serif\"><span style=\"color:#595959\">When the i = 2, find the 2nd smallest number.</span></span></span></li>\n",
    "\t\t<li style=\"list-style-type:circle\"><span style=\"font-size:11pt\"><span style=\"font-family:Lato,sans-serif\"><span style=\"color:#595959\">&hellip;</span></span></span></li>\n",
    "\t\t<li style=\"list-style-type:circle\"><span style=\"font-size:11pt\"><span style=\"font-family:Lato,sans-serif\"><span style=\"color:#595959\">When the i = length of list, find the greatest number</span></span></span></li>\n",
    "\t</ul>\n",
    "\t</li>\n",
    "\t<li style=\"list-style-type:disc\"><span style=\"font-size:13pt\"><span style=\"font-family:Lato,sans-serif\"><span style=\"color:#595959\">Without any sort() or sorted() function</span></span></span>\n",
    "\t<ul>\n",
    "\t\t<li style=\"list-style-type:circle\"><span style=\"font-size:11pt\"><span style=\"font-family:Lato,sans-serif\"><span style=\"color:#595959\">find the i_th smallest number</span></span></span></li>\n",
    "\t</ul>\n",
    "\t</li>\n",
    "\t<li style=\"list-style-type:disc\"><span style=\"font-size:13pt\"><span style=\"font-family:Lato,sans-serif\"><span style=\"color:#595959\">Basic Steps</span></span></span>\n",
    "\t<ul>\n",
    "\t\t<li style=\"list-style-type:circle\"><span style=\"font-size:11pt\"><span style=\"font-family:Lato,sans-serif\"><span style=\"color:#595959\">for ( i_th iterations)</span></span></span>\n",
    "\t\t<ul>\n",
    "\t\t\t<li style=\"list-style-type:square\"><span style=\"font-size:11pt\"><span style=\"font-family:Lato,sans-serif\"><span style=\"color:#595959\">Find the minimum number in the list</span></span></span></li>\n",
    "\t\t</ul>\n",
    "\t\t</li>\n",
    "\t\t<li style=\"list-style-type:circle\">&nbsp;</li>\n",
    "\t</ul>\n",
    "\t</li>\n",
    "\t<li style=\"list-style-type:disc\"><span style=\"font-size:13pt\"><span style=\"font-family:Lato,sans-serif\"><span style=\"color:#595959\">You can use any methods in list</span></span></span>\n",
    "\t<ul>\n",
    "\t\t<li style=\"list-style-type:circle\"><a href=\"https://docs.python.org/3/tutorial/datastructures.html#more-on-lists\" style=\"text-decoration:none\"><span style=\"font-size:11pt\"><span style=\"font-family:Lato,sans-serif\"><span style=\"color:#1c3678\"><u>https://docs.python.org/3/tutorial/datastructures.html#more-on-lists</u></span></span></span></a><span style=\"font-size:11pt\"><span style=\"font-family:Lato,sans-serif\"><span style=\"color:#595959\">&nbsp;</span></span></span></li>\n",
    "\t</ul>\n",
    "\t</li>\n",
    "</ul>\n",
    "\n",
    "<p>&nbsp;</p>\n"
   ]
  },
  {
   "cell_type": "code",
   "execution_count": 13,
   "metadata": {},
   "outputs": [
    {
     "name": "stdout",
     "output_type": "stream",
     "text": [
      "[41, 64, 12, 38, 62, 37, 37, 28, 93, 30]\n",
      "12\n",
      "28\n",
      "30\n",
      "37\n",
      "37\n",
      "37\n",
      "37\n",
      "41\n",
      "64\n",
      "93\n",
      "[12, 28, 30, 62, 38, 37, 37, 41, 64, 93]\n"
     ]
    }
   ],
   "source": [
    "import random\n",
    "N = 10\n",
    "num = [0] * 10\n",
    "for i in range(10):\n",
    "\tnum[i] = random.randint(0, 100)\n",
    "print (num)\n",
    "\n",
    "idx = int(input('Enter the i for the i_th smallest number'))\n",
    "\n",
    "for i in range(idx):\n",
    "\tminval = min(num[i:]) \n",
    "\tprint (minval)\n",
    "\tminidx = num.index(minval)\n",
    "\tnum[i], num[minidx] = num[minidx], num[i]\n",
    "\n",
    "print (num)\n",
    "\n"
   ]
  }
 ],
 "metadata": {
  "interpreter": {
   "hash": "a614fddea9d37e019a720cc724ab725ff28be4e0e64e91a691a8738e1909110d"
  },
  "kernelspec": {
   "display_name": "Python 3.9.7 ('base')",
   "language": "python",
   "name": "python3"
  },
  "language_info": {
   "codemirror_mode": {
    "name": "ipython",
    "version": 3
   },
   "file_extension": ".py",
   "mimetype": "text/x-python",
   "name": "python",
   "nbconvert_exporter": "python",
   "pygments_lexer": "ipython3",
   "version": "3.9.7"
  },
  "orig_nbformat": 4
 },
 "nbformat": 4,
 "nbformat_minor": 2
}
