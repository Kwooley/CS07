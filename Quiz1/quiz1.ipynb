{
 "cells": [
  {
   "cell_type": "markdown",
   "metadata": {},
   "source": [
    "## Question 1"
   ]
  },
  {
   "cell_type": "code",
   "execution_count": 4,
   "metadata": {},
   "outputs": [
    {
     "name": "stdout",
     "output_type": "stream",
     "text": [
      "Original list  [84, 93, 93, 52, 4, 97, 26, 34, 63, 21]\n",
      "[4, 93, 93, 52, 84, 97, 26, 34, 63, 21]\n"
     ]
    }
   ],
   "source": [
    "import random\n",
    "\n",
    "N = 10\n",
    "numbers = []\n",
    "for i in range(N):\n",
    "\tnumbers.append(random.randint(0,100))\n",
    "\n",
    "print (\"Original list \", numbers)\n",
    "\n",
    "minval = min(numbers)\n",
    "minidx = numbers.index(minval)\n",
    "numbers[minidx], numbers[0] = numbers[0], numbers[minidx]\n",
    "\n",
    "print (numbers)\n",
    "\n"
   ]
  },
  {
   "cell_type": "markdown",
   "metadata": {},
   "source": [
    "Question 2\n",
    "<ul>\n",
    "\t<li style=\"list-style-type:disc\"><span style=\"font-size:13pt\"><span style=\"font-family:Lato,sans-serif\"><span style=\"color:#595959\">Construct a two dimensional array to manage the students&rsquo; score information</span></span></span>\n",
    "\t<ul>\n",
    "\t\t<li style=\"list-style-type:circle\"><span style=\"font-size:11pt\"><span style=\"font-family:Lato,sans-serif\"><span style=\"color:#595959\">Take the user input for the number of rows N and column M</span></span></span>\n",
    "\t\t<ul>\n",
    "\t\t\t<li style=\"list-style-type:square\"><span style=\"font-size:11pt\"><span style=\"font-family:Lato,sans-serif\"><span style=\"color:#595959\">N : the number of students</span></span></span></li>\n",
    "\t\t\t<li style=\"list-style-type:square\"><span style=\"font-size:11pt\"><span style=\"font-family:Lato,sans-serif\"><span style=\"color:#595959\">M: the number of scores</span></span></span></li>\n",
    "\t\t</ul>\n",
    "\t\t</li>\n",
    "\t\t<li style=\"list-style-type:circle\"><span style=\"font-size:11pt\"><span style=\"font-family:Lato,sans-serif\"><span style=\"color:#595959\">Take the N student&rsquo;s name from the user and then N x M scores for two dimensional list</span></span></span></li>\n",
    "\t</ul>\n",
    "\t</li>\n",
    "</ul>\n"
   ]
  },
  {
   "cell_type": "code",
   "execution_count": 30,
   "metadata": {},
   "outputs": [
    {
     "name": "stdout",
     "output_type": "stream",
     "text": [
      "[[0, 0, 0], [0, 0, 0]]\n",
      "Student's name: aa        , scores : [1, 2, 3], sum: 6, average: 2.0\n",
      "Student's name: bb        , scores : [4, 5, 6], sum: 15, average: 5.0\n",
      "Subject 0 sum : 5, average: 2.5\n",
      "Subject 1 sum : 7, average: 3.5\n",
      "Subject 2 sum : 9, average: 4.5\n"
     ]
    }
   ],
   "source": [
    "N = int(input(\"Enter the number of students:\"))\n",
    "M = int(input(\"Enter the number of scores:\"))\n",
    "names = []\n",
    "for i in range(N):\n",
    "\tnames.append(input(\"Enter student {0} name: \".format(i)))\n",
    "\n",
    "scores =  [ [0]*M for i in range(N) ]\n",
    "print (scores)\n",
    "for i in range(N):\n",
    "\tfor j in range(M):\n",
    "\t\tscores[i][j] = int(input(\"Student {0}'s score {1} : \".format(i, j)))\n",
    "\n",
    "for i in range(N):\n",
    "\tsum = 0; avg = 0.0\n",
    "\tfor j in range(M):\n",
    "\t\tsum += scores[i][j]\n",
    "\tavg = float(sum) / M\n",
    "\tprint( \"Student's name: {0:10}, scores : {1}, sum: {2}, average: {3}\".format(names[i], scores[i], sum, avg))\t\n",
    "\n",
    "colsum = [0]*M\n",
    "colavg = [0]*M\n",
    "for i in range(M):\n",
    "\tfor j in range(N):\n",
    "\t\tcolsum[i] += scores[j][i] \n",
    "\tcolavg[i] = colsum[i] / float(N)\n",
    "\tprint (\"Subject {0} sum : {1}, average: {2}\".format(i, colsum[i], colavg[i]) )\n",
    "\n",
    "\n"
   ]
  },
  {
   "cell_type": "markdown",
   "metadata": {},
   "source": [
    "### Question 3"
   ]
  },
  {
   "cell_type": "code",
   "execution_count": 61,
   "metadata": {},
   "outputs": [
    {
     "data": {
      "image/png": "[encoded data removed]",
      "text/plain": [
       "<Figure size 432x288 with 1 Axes>"
      ]
     },
     "metadata": {
      "needs_background": "light"
     },
     "output_type": "display_data"
    }
   ],
   "source": [
    "import matplotlib.pyplot as plt\n",
    "import numpy as np\n",
    "\n",
    "fig, ax = plt.subplots()\n",
    "\n",
    "width = 0.20\n",
    "students = [\"Bill\", \"Jim\", \"Joe\"]\n",
    "x = np.arange(len(students))\n",
    "math = [100, 100, 100]\n",
    "english = [90, 90, 80]\n",
    "physics = [90, 80, 90]\n",
    "computer = [90, 80, 90]\n",
    "\n",
    "b1 = ax.bar(x-(width+width/2), math,width, label=\"Math\")\n",
    "b2 = ax.bar(x-(width/2), english,width, label=\"English\")\n",
    "b3 = ax.bar(x+width/2, physics,width, label=\"Physics\")\n",
    "b4 = ax.bar(x+(width+width/2), computer,width, label=\"Computer\")\n",
    "ax.legend()\n",
    "\n",
    "ax.bar_label(b1, padding=3)\n",
    "ax.bar_label(b2, padding=3)\n",
    "ax.bar_label(b3, padding=3)\n",
    "ax.bar_label(b4, padding=3)\n",
    "\n",
    "ax.set_ylabel('scores')\n",
    "ax.set_xlabel('Students name')\n",
    "ax.set_xticks(x, students)\n",
    "\n",
    "plt.show()"
   ]
  },
  {
   "cell_type": "code",
   "execution_count": null,
   "metadata": {},
   "outputs": [],
   "source": []
  }
 ],
 "metadata": {
  "interpreter": {
   "hash": "a614fddea9d37e019a720cc724ab725ff28be4e0e64e91a691a8738e1909110d"
  },
  "kernelspec": {
   "display_name": "Python 3.9.7 ('base')",
   "language": "python",
   "name": "python3"
  },
  "language_info": {
   "codemirror_mode": {
    "name": "ipython",
    "version": 3
   },
   "file_extension": ".py",
   "mimetype": "text/x-python",
   "name": "python",
   "nbconvert_exporter": "python",
   "pygments_lexer": "ipython3",
   "version": "3.9.7"
  },
  "orig_nbformat": 4
 },
 "nbformat": 4,
 "nbformat_minor": 2
}
