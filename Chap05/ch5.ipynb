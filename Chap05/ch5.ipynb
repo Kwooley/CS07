{
 "cells": [
  {
   "cell_type": "markdown",
   "metadata": {},
   "source": [
    "<style>\n",
    "\th1 {\n",
    "\t\tbackground-color: grey;\n",
    "\t\tcolor: white\n",
    "\t\tborder: 3px solid grey\n",
    "\n",
    "\t}\n",
    "</style>\n",
    "<h1> Chapter 5 Functions</h1>"
   ]
  },
  {
   "cell_type": "markdown",
   "metadata": {},
   "source": [
    "<p style=\"margin-left:40px\">1. 5.1 Introduction to Functions</p>\n",
    "\n",
    "<p style=\"margin-left:40px\">2. 5.2 Defining and Calling a Void Function</p>\n",
    "\n",
    "<p style=\"margin-left:40px\">3. 5.3 Designing a Program to Use Functions</p>\n",
    "\n",
    "<p style=\"margin-left:40px\">4. 5.4 <mark> Local Variables </mark></p>\n",
    "\n",
    "<p style=\"margin-left:40px\">5. 5.5 <mark> Passing Arguments to Functions </mark></p>\n",
    "\n",
    "<p style=\"margin-left:40px\">6. 5.6 Global Variables and Global Constants</p>\n",
    "\n",
    "<p style=\"margin-left:40px\">7. 5.7 Introduction to <mark>Value-Returning Functions </mark>: Generating Random Numbers</p>\n",
    "\n",
    "<p style=\"margin-left:40px\">8. 5.8 Writing Your Own Value-Returning Functions</p>\n",
    "\n",
    "<p style=\"margin-left:40px\">9. 5.9 The math Module</p>\n",
    "\n",
    "<p style=\"margin-left:40px\">10. 5.10 <mark> Storing Functions in Modules <mark> </p>\n",
    "\n",
    "<p style=\"margin-left:40px\">11. 5.11 Turtle Graphics: Modularizing Code with Functions</p>\n"
   ]
  },
  {
   "cell_type": "markdown",
   "metadata": {},
   "source": [
    "<style>\n",
    "\th3{\n",
    "\t\tbackground-color: grey\n",
    "\t\tcolor: white\n",
    "\t}\n",
    "</style>\n",
    "\n",
    "<h3> First example of input function </h3>"
   ]
  },
  {
   "cell_type": "markdown",
   "metadata": {},
   "source": [
    "#### version 1"
   ]
  },
  {
   "cell_type": "code",
   "execution_count": 2,
   "metadata": {},
   "outputs": [
    {
     "name": "stdout",
     "output_type": "stream",
     "text": [
      "3\n"
     ]
    }
   ],
   "source": [
    "\n",
    "def \tgetinput():\n",
    "\tval = int(input())\n",
    "\treturn val\n",
    "\n",
    "userval = getinput()\n",
    "print (userval)\n",
    "\n",
    "\n"
   ]
  },
  {
   "cell_type": "markdown",
   "metadata": {},
   "source": [
    "#### version 2"
   ]
  },
  {
   "cell_type": "code",
   "execution_count": 4,
   "metadata": {},
   "outputs": [
    {
     "name": "stdout",
     "output_type": "stream",
     "text": [
      "3\n"
     ]
    }
   ],
   "source": [
    "\n",
    "def \tgetinput():\n",
    "\tval = int(input())\n",
    "\treturn val\n",
    "\n",
    "def \tmain():\n",
    "\tuserval = getinput()\n",
    "\tprint (userval)\n",
    "\n",
    "\n",
    "if __name__ == '__main__':\n",
    "\tmain()\n",
    "\n"
   ]
  },
  {
   "cell_type": "markdown",
   "metadata": {},
   "source": [
    "<style>\n",
    "\th3{\n",
    "\t\tbackground-color: grey\n",
    "\t\tcolor: white\n",
    "\t}\n",
    "</style>\n",
    "\n",
    "<h3> Local Variables </h3>"
   ]
  },
  {
   "cell_type": "code",
   "execution_count": 6,
   "metadata": {},
   "outputs": [
    {
     "name": "stdout",
     "output_type": "stream",
     "text": [
      "3\n"
     ]
    }
   ],
   "source": [
    "def \tgetinput():\n",
    "\tval = int(input())\n",
    "\treturn val\n",
    "\n",
    "def \tmain():\n",
    "\tuserval = getinput()\n",
    "\tprint (userval)\n",
    "\t# print (val)\n",
    "\n",
    "if __name__ == '__main__':\n",
    "\tmain()\n",
    "\t\n"
   ]
  }
 ],
 "metadata": {
  "interpreter": {
   "hash": "a614fddea9d37e019a720cc724ab725ff28be4e0e64e91a691a8738e1909110d"
  },
  "kernelspec": {
   "display_name": "Python 3.9.7 ('base')",
   "language": "python",
   "name": "python3"
  },
  "language_info": {
   "codemirror_mode": {
    "name": "ipython",
    "version": 3
   },
   "file_extension": ".py",
   "mimetype": "text/x-python",
   "name": "python",
   "nbconvert_exporter": "python",
   "pygments_lexer": "ipython3",
   "version": "3.9.7"
  },
  "orig_nbformat": 4
 },
 "nbformat": 4,
 "nbformat_minor": 2
}
